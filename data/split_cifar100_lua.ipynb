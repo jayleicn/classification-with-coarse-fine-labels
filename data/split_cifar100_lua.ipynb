{
 "cells": [
  {
   "cell_type": "markdown",
   "metadata": {},
   "source": [
    "### Split the cifar-100 dataset\n",
    "1. Randomly select 100 images out of 500 training images as validation set for each fine class, the rest 400 as training set.\n",
    "2. Randomly spilt the training set $S$ as two disjoint sets for each fine class, while the first subset $s_{coarse}$ has only coarse labels, while the second $s_{fine}$ has fine labels as well. "
   ]
  },
  {
   "cell_type": "code",
   "execution_count": 1,
   "metadata": {
    "collapsed": false
   },
   "outputs": [
    {
     "data": {
      "text/plain": [
       "{\n",
       "  trainData : \n",
       "    {\n",
       "      data : DoubleTensor - size: 50000x3x32x32\n",
       "      size : function: 0x40b7da80\n",
       "      labelCoarse : IntTensor - size: 50000\n",
       "      labelFine : IntTensor - size: 50000\n",
       "    }\n",
       "  testData : \n",
       "    {\n",
       "      data : DoubleTensor - size: 10000x3x32x32\n",
       "      size : function: 0x40074fb8\n",
       "      labelCoarse : IntTensor - size: 10000\n",
       "      labelFine : IntTensor - size: 10000\n",
       "    }\n",
       "}\n"
      ]
     },
     "execution_count": 1,
     "metadata": {},
     "output_type": "execute_result"
    }
   ],
   "source": [
    "cifar100 = torch.load('./data/cifar100_whitened_coarse_fine_int.t7')\n",
    "print(cifar100)"
   ]
  },
  {
   "cell_type": "code",
   "execution_count": 16,
   "metadata": {
    "collapsed": false
   },
   "outputs": [
    {
     "data": {
      "text/plain": [
       "525000\t\n",
       "210\t\n",
       "210\t\n"
      ]
     },
     "execution_count": 16,
     "metadata": {},
     "output_type": "execute_result"
    }
   ],
   "source": [
    "print(cifar100.trainData.labelCoarse:sum())\n",
    "print(cifar100.trainData.labelCoarse:sum() / 2500)\n",
    "print((1+20)*20 / 2)"
   ]
  },
  {
   "cell_type": "code",
   "execution_count": 6,
   "metadata": {
    "collapsed": false
   },
   "outputs": [
    {
     "data": {
      "text/plain": [
       "2525000\t\n",
       "5050\t\n",
       "5050\t\n"
      ]
     },
     "execution_count": 6,
     "metadata": {},
     "output_type": "execute_result"
    }
   ],
   "source": [
    "print(cifar100.trainData.labelFine:sum())\n",
    "print(cifar100.trainData.labelFine:sum() / 500 )\n",
    "print((1+100)*100 / 2)"
   ]
  },
  {
   "cell_type": "code",
   "execution_count": 9,
   "metadata": {
    "collapsed": false
   },
   "outputs": [],
   "source": [
    "torch.manualSeed(2)\n",
    "fine_perm = torch.randperm(500)\n",
    "cifar100.trainData['indicator'] = torch.IntTensor(50000,2):fill(1)  -- {1,1} both fine and coarse {0,1} only coarse\n",
    "for i=1,100 do\n",
    "   count = 0\n",
    "   for j=1,50000 do\n",
    "       if cifar100.trainData.labelFine[j] == i then\n",
    "          count = count + 1\n",
    "          if fine_perm[count] <= 250 then \n",
    "                cifar100.trainData.indicator[j][1] = 0  -- \n",
    "          end\n",
    "       end         \n",
    "   end        \n",
    "end"
   ]
  },
  {
   "cell_type": "code",
   "execution_count": 10,
   "metadata": {
    "collapsed": false
   },
   "outputs": [
    {
     "data": {
      "text/plain": [
       "{\n",
       "  trainData : \n",
       "    {\n",
       "      data : DoubleTensor - size: 50000x3x32x32\n",
       "      labelCoarse : IntTensor - size: 50000\n",
       "      size : function: 0x40909a80\n",
       "      indicator : IntTensor - size: 50000x2\n",
       "      labelFine : IntTensor - size: 50000\n",
       "    }\n",
       "  testData : \n",
       "    {\n",
       "      data : DoubleTensor - size: 10000x3x32x32\n",
       "      size : function: 0x410e2fb8\n",
       "      labelCoarse : IntTensor - size: 10000\n",
       "      labelFine : IntTensor - size: 10000\n",
       "    }\n",
       "}\n"
      ]
     },
     "execution_count": 10,
     "metadata": {},
     "output_type": "execute_result"
    }
   ],
   "source": [
    "cifar100"
   ]
  },
  {
   "cell_type": "code",
   "execution_count": 14,
   "metadata": {
    "collapsed": false
   },
   "outputs": [
    {
     "data": {
      "text/plain": [
       " 0  1\n",
       " 0  1\n",
       " 0  1\n",
       " 0  1\n",
       " 0  1\n",
       " 1  1\n",
       " 1  1\n",
       " 0  1\n",
       " 1  1\n",
       " 0  1\n",
       " 0  1\n",
       "[torch.IntTensor of size 11x2]\n",
       "\n"
      ]
     },
     "execution_count": 14,
     "metadata": {},
     "output_type": "execute_result"
    }
   ],
   "source": [
    "cifar100.trainData.indicator[{{10000,10010},{}}]"
   ]
  },
  {
   "cell_type": "code",
   "execution_count": 17,
   "metadata": {
    "collapsed": false
   },
   "outputs": [
    {
     "data": {
      "text/plain": [
       "25000\t\n"
      ]
     },
     "execution_count": 17,
     "metadata": {},
     "output_type": "execute_result"
    }
   ],
   "source": [
    "c = 0\n",
    "for i=1,50000 do\n",
    "    if cifar100.trainData.indicator[i][1] == 0 then c = c+1 end\n",
    "end\n",
    "print(c)"
   ]
  },
  {
   "cell_type": "code",
   "execution_count": 21,
   "metadata": {
    "collapsed": false
   },
   "outputs": [
    {
     "data": {
      "text/plain": [
       "250\t\n"
      ]
     },
     "execution_count": 21,
     "metadata": {},
     "output_type": "execute_result"
    }
   ],
   "source": [
    "c = 0\n",
    "for i=1,50000 do\n",
    "    if cifar100.trainData.labelFine[i] == 6 then\n",
    "       if cifar100.trainData.indicator[i][1] == 1 then c = c+1 end\n",
    "    end\n",
    "end\n",
    "print(c)"
   ]
  },
  {
   "cell_type": "markdown",
   "metadata": {},
   "source": [
    "#### This is used for tune the hyperparameters in the model."
   ]
  },
  {
   "cell_type": "markdown",
   "metadata": {},
   "source": [
    "- Initialization"
   ]
  },
  {
   "cell_type": "code",
   "execution_count": 2,
   "metadata": {
    "collapsed": true
   },
   "outputs": [],
   "source": [
    "-- Initialize fine dataset\n",
    "train_fine_tmp = {\n",
    "    data = torch.DoubleTensor(20000,3,32,32):fill(0),\n",
    "    labelCoarse = torch.IntTensor(20000):fill(0),\n",
    "    labelFine = torch.IntTensor(20000):fill(0),\n",
    "    indicator = torch.IntTensor(20000,2):fill(1),\n",
    "    size = function () return 20000 end\n",
    "} --20000\n",
    "\n",
    "-- Initialize coarse dataset\n",
    "train_coarse_tmp = {\n",
    "    data = torch.DoubleTensor(20000,3,32,32):fill(0),\n",
    "    labelCoarse = torch.IntTensor(20000):fill(0),\n",
    "    labelFine = torch.IntTensor(20000):fill(0),\n",
    "    indicator = torch.IntTensor(20000,2):fill(1),\n",
    "    size = function () return 20000 end\n",
    "} --20000\n",
    "train_coarse_tmp.indicator[{{}, {1}}]:fill(0)\n",
    "train_coarse_tmp.indicator[{{}, {2}}]:fill(1)\n",
    "\n",
    "-- Initialize val dataset\n",
    "val_tmp = {\n",
    "    data = torch.DoubleTensor(10000,3,32,32):fill(0),\n",
    "    labelCoarse = torch.IntTensor(10000):fill(0),\n",
    "    labelFine = torch.IntTensor(10000):fill(0),\n",
    "    indicator = torch.IntTensor(10000,2):fill(1),\n",
    "    size = function () return 10000 end\n",
    "} --10000"
   ]
  },
  {
   "cell_type": "markdown",
   "metadata": {},
   "source": [
    "- Assign values"
   ]
  },
  {
   "cell_type": "code",
   "execution_count": 9,
   "metadata": {
    "collapsed": false
   },
   "outputs": [],
   "source": [
    "torch.manualSeed(2)\n",
    "fine_perm = torch.randperm(500)\n",
    "-- {1,1} both fine and coarse {0,1} only coarse\n",
    "val_count = 0\n",
    "train_fine_count = 0\n",
    "train_coarse_count = 0\n",
    "for i=1,100 do\n",
    "   count = 0\n",
    "   for j=1,50000 do\n",
    "       if cifar100.trainData.labelFine[j] == i then\n",
    "          count = count + 1\n",
    "          if fine_perm[count] <= 50 or fine_perm[count] > 450 then -- validation set\n",
    "             val_count = val_count + 1\n",
    "             val_tmp.data[val_count] = cifar100.trainData.data[j]\n",
    "             val_tmp.labelFine[val_count] = cifar100.trainData.labelFine[j]\n",
    "             val_tmp.labelCoarse[val_count] = cifar100.trainData.labelCoarse[j]\n",
    "          elseif fine_perm[count] > 50 and fine_perm[count] <= 250 then -- coarse set\n",
    "             train_coarse_count = train_coarse_count + 1\n",
    "             train_coarse_tmp.data[train_coarse_count] = cifar100.trainData.data[j]\n",
    "             train_coarse_tmp.labelFine[train_coarse_count] = cifar100.trainData.labelFine[j]\n",
    "             train_coarse_tmp.labelCoarse[train_coarse_count] = cifar100.trainData.labelCoarse[j]\n",
    "          else -- fine set\n",
    "             train_fine_count = train_fine_count + 1\n",
    "             train_fine_tmp.data[train_fine_count] = cifar100.trainData.data[j]\n",
    "             train_fine_tmp.labelFine[train_fine_count] = cifar100.trainData.labelFine[j]\n",
    "             train_fine_tmp.labelCoarse[train_fine_count] = cifar100.trainData.labelCoarse[j]   \n",
    "          end\n",
    "       end         \n",
    "   end        \n",
    "end"
   ]
  },
  {
   "cell_type": "code",
   "execution_count": 10,
   "metadata": {
    "collapsed": false
   },
   "outputs": [
    {
     "data": {
      "text/plain": [
       "{\n",
       "  data : DoubleTensor - size: 20000x3x32x32\n",
       "  labelCoarse : IntTensor - size: 20000\n",
       "  size : function: 0x40d1f450\n",
       "  indicator : IntTensor - size: 20000x2\n",
       "  labelFine : IntTensor - size: 20000\n",
       "}\n"
      ]
     },
     "execution_count": 10,
     "metadata": {},
     "output_type": "execute_result"
    }
   ],
   "source": [
    "train_coarse_tmp"
   ]
  },
  {
   "cell_type": "code",
   "execution_count": 11,
   "metadata": {
    "collapsed": false
   },
   "outputs": [
    {
     "data": {
      "text/plain": [
       "{\n",
       "  data : DoubleTensor - size: 20000x3x32x32\n",
       "  labelCoarse : IntTensor - size: 20000\n",
       "  size : function: 0x417bff28\n",
       "  indicator : IntTensor - size: 20000x2\n",
       "  labelFine : IntTensor - size: 20000\n",
       "}\n"
      ]
     },
     "execution_count": 11,
     "metadata": {},
     "output_type": "execute_result"
    }
   ],
   "source": [
    "train_fine_tmp"
   ]
  },
  {
   "cell_type": "code",
   "execution_count": 12,
   "metadata": {
    "collapsed": false
   },
   "outputs": [
    {
     "data": {
      "text/plain": [
       "{\n",
       "  data : DoubleTensor - size: 10000x3x32x32\n",
       "  labelCoarse : IntTensor - size: 10000\n",
       "  size : function: 0x40d1f258\n",
       "  indicator : IntTensor - size: 10000x2\n",
       "  labelFine : IntTensor - size: 10000\n",
       "}\n"
      ]
     },
     "execution_count": 12,
     "metadata": {},
     "output_type": "execute_result"
    }
   ],
   "source": [
    "val_tmp"
   ]
  },
  {
   "cell_type": "code",
   "execution_count": 13,
   "metadata": {
    "collapsed": false
   },
   "outputs": [
    {
     "data": {
      "text/plain": [
       "210000\t\n",
       " 20000\n",
       "[torch.LongStorage of size 1]\n",
       "\n"
      ]
     },
     "execution_count": 13,
     "metadata": {},
     "output_type": "execute_result"
    }
   ],
   "source": [
    "print(train_fine_tmp.labelCoarse:sum())\n",
    "print(train_fine_tmp.labelCoarse:size())\n"
   ]
  },
  {
   "cell_type": "code",
   "execution_count": 16,
   "metadata": {
    "collapsed": false
   },
   "outputs": [
    {
     "data": {
      "text/plain": [
       "210000\t\n",
       " 20000\n",
       "[torch.LongStorage of size 1]\n",
       "\n"
      ]
     },
     "execution_count": 16,
     "metadata": {},
     "output_type": "execute_result"
    }
   ],
   "source": [
    "print(train_coarse_tmp.labelCoarse:sum())\n",
    "print(train_coarse_tmp.labelCoarse:size())"
   ]
  },
  {
   "cell_type": "code",
   "execution_count": 26,
   "metadata": {
    "collapsed": false
   },
   "outputs": [
    {
     "data": {
      "text/plain": [
       "105000\t\n",
       "210\t\n",
       "210\t\n"
      ]
     },
     "execution_count": 26,
     "metadata": {},
     "output_type": "execute_result"
    }
   ],
   "source": [
    "print(val_tmp.labelCoarse:sum())\n",
    "print(val_tmp.labelCoarse:sum() / 500 )\n",
    "print((1+20)*20 / 2)"
   ]
  },
  {
   "cell_type": "code",
   "execution_count": 19,
   "metadata": {
    "collapsed": false
   },
   "outputs": [
    {
     "data": {
      "text/plain": [
       "1010000\t\n",
       "5050\t\n",
       "5050\t\n"
      ]
     },
     "execution_count": 19,
     "metadata": {},
     "output_type": "execute_result"
    }
   ],
   "source": [
    "print(train_coarse_tmp.labelFine:sum())\n",
    "print(train_coarse_tmp.labelFine:sum() / 200 )\n",
    "print((1+100)*100 / 2)"
   ]
  },
  {
   "cell_type": "code",
   "execution_count": 20,
   "metadata": {
    "collapsed": false
   },
   "outputs": [
    {
     "data": {
      "text/plain": [
       "1010000\t\n",
       "5050\t\n",
       "5050\t\n"
      ]
     },
     "execution_count": 20,
     "metadata": {},
     "output_type": "execute_result"
    }
   ],
   "source": [
    "print(train_fine_tmp.labelFine:sum())\n",
    "print(train_fine_tmp.labelFine:sum() / 200 )\n",
    "print((1+100)*100 / 2)"
   ]
  },
  {
   "cell_type": "code",
   "execution_count": 24,
   "metadata": {
    "collapsed": false
   },
   "outputs": [
    {
     "data": {
      "text/plain": [
       "210000\t\n",
       "210\t\n",
       "210\t\n"
      ]
     },
     "execution_count": 24,
     "metadata": {},
     "output_type": "execute_result"
    }
   ],
   "source": [
    "print(train_fine_tmp.labelCoarse:sum())\n",
    "print(train_fine_tmp.labelCoarse:sum() / 1000 )\n",
    "print((1+20)*20 / 2)"
   ]
  },
  {
   "cell_type": "markdown",
   "metadata": {},
   "source": [
    "#### Save *_tmp datasets"
   ]
  },
  {
   "cell_type": "code",
   "execution_count": 33,
   "metadata": {
    "collapsed": true
   },
   "outputs": [],
   "source": [
    "torch.save('./data/val_tmp.t7', val_tmp)\n",
    "torch.save('./data/train_fine_tmp.t7', train_fine_tmp)\n",
    "torch.save('./data/train_coarse_tmp.t7', train_coarse_tmp)"
   ]
  },
  {
   "cell_type": "markdown",
   "metadata": {},
   "source": [
    "### Final training sets\n",
    "- Fix the tuned hyperparameters and train on the whole 50000 images"
   ]
  },
  {
   "cell_type": "code",
   "execution_count": 27,
   "metadata": {
    "collapsed": true
   },
   "outputs": [],
   "source": [
    "-- Initialize fine dataset\n",
    "train_fine = {\n",
    "    data = torch.DoubleTensor(25000,3,32,32):fill(0),\n",
    "    labelCoarse = torch.IntTensor(25000):fill(0),\n",
    "    labelFine = torch.IntTensor(25000):fill(0),\n",
    "    indicator = torch.IntTensor(25000,2):fill(1),\n",
    "    size = function () return 25000 end\n",
    "} --20000\n",
    "\n",
    "-- Initialize coarse dataset\n",
    "train_coarse = {\n",
    "    data = torch.DoubleTensor(25000,3,32,32):fill(0),\n",
    "    labelCoarse = torch.IntTensor(25000):fill(0),\n",
    "    labelFine = torch.IntTensor(25000):fill(0),\n",
    "    indicator = torch.IntTensor(25000,2):fill(1),\n",
    "    size = function () return 25000 end\n",
    "} --20000\n",
    "train_coarse_tmp.indicator[{{}, {1}}]:fill(0)\n",
    "train_coarse_tmp.indicator[{{}, {2}}]:fill(1)\n",
    "\n",
    "torch.manualSeed(2)\n",
    "fine_perm = torch.randperm(500)\n",
    "-- {1,1} both fine and coarse {0,1} only coarse\n",
    "val_count = 0\n",
    "train_fine_count = 0\n",
    "train_coarse_count = 0\n",
    "for i=1,100 do\n",
    "   count = 0\n",
    "   for j=1,50000 do\n",
    "       if cifar100.trainData.labelFine[j] == i then\n",
    "          count = count + 1\n",
    "          if fine_perm[count] <= 250 then -- coarse set\n",
    "             train_coarse_count = train_coarse_count + 1\n",
    "             train_coarse.data[train_coarse_count] = cifar100.trainData.data[j]\n",
    "             train_coarse.labelFine[train_coarse_count] = cifar100.trainData.labelFine[j]\n",
    "             train_coarse.labelCoarse[train_coarse_count] = cifar100.trainData.labelCoarse[j]\n",
    "          else -- fine set\n",
    "             train_fine_count = train_fine_count + 1\n",
    "             train_fine.data[train_fine_count] = cifar100.trainData.data[j]\n",
    "             train_fine.labelFine[train_fine_count] = cifar100.trainData.labelFine[j]\n",
    "             train_fine.labelCoarse[train_fine_count] = cifar100.trainData.labelCoarse[j]   \n",
    "          end\n",
    "       end         \n",
    "   end        \n",
    "end"
   ]
  },
  {
   "cell_type": "code",
   "execution_count": 28,
   "metadata": {
    "collapsed": false
   },
   "outputs": [
    {
     "data": {
      "text/plain": [
       "{\n",
       "  data : DoubleTensor - size: 25000x3x32x32\n",
       "  labelCoarse : IntTensor - size: 25000\n",
       "  size : function: 0x40b881a8\n",
       "  indicator : IntTensor - size: 25000x2\n",
       "  labelFine : IntTensor - size: 25000\n",
       "}\n"
      ]
     },
     "execution_count": 28,
     "metadata": {},
     "output_type": "execute_result"
    }
   ],
   "source": [
    "train_fine"
   ]
  },
  {
   "cell_type": "code",
   "execution_count": 29,
   "metadata": {
    "collapsed": false
   },
   "outputs": [
    {
     "data": {
      "text/plain": [
       "262500\t\n"
      ]
     },
     "execution_count": 29,
     "metadata": {},
     "output_type": "execute_result"
    }
   ],
   "source": [
    "train_fine.labelCoarse:sum()"
   ]
  },
  {
   "cell_type": "code",
   "execution_count": 30,
   "metadata": {
    "collapsed": false
   },
   "outputs": [
    {
     "data": {
      "text/plain": [
       "262500\t\n"
      ]
     },
     "execution_count": 30,
     "metadata": {},
     "output_type": "execute_result"
    }
   ],
   "source": [
    "train_coarse.labelCoarse:sum()"
   ]
  },
  {
   "cell_type": "code",
   "execution_count": 31,
   "metadata": {
    "collapsed": false
   },
   "outputs": [
    {
     "data": {
      "text/plain": [
       "1262500\t\n"
      ]
     },
     "execution_count": 31,
     "metadata": {},
     "output_type": "execute_result"
    }
   ],
   "source": [
    "train_fine.labelFine:sum()"
   ]
  },
  {
   "cell_type": "code",
   "execution_count": 32,
   "metadata": {
    "collapsed": false
   },
   "outputs": [
    {
     "data": {
      "text/plain": [
       "1262500\t\n"
      ]
     },
     "execution_count": 32,
     "metadata": {},
     "output_type": "execute_result"
    }
   ],
   "source": [
    "train_coarse.labelFine:sum()"
   ]
  },
  {
   "cell_type": "markdown",
   "metadata": {},
   "source": [
    "#### save final train dataset"
   ]
  },
  {
   "cell_type": "code",
   "execution_count": 34,
   "metadata": {
    "collapsed": true
   },
   "outputs": [],
   "source": [
    "cifar100.testData['indicator'] = torch.IntTensor(10000,2):fill(1)"
   ]
  },
  {
   "cell_type": "code",
   "execution_count": 35,
   "metadata": {
    "collapsed": true
   },
   "outputs": [],
   "source": [
    "torch.save('./data/test.t7', cifar100.testData)\n",
    "torch.save('./data/train_fine.t7', train_fine)\n",
    "torch.save('./data/train_coarse.t7', train_coarse)"
   ]
  }
 ],
 "metadata": {
  "kernelspec": {
   "display_name": "iTorch",
   "language": "lua",
   "name": "itorch"
  },
  "language_info": {
   "name": "lua",
   "version": "5.1"
  }
 },
 "nbformat": 4,
 "nbformat_minor": 0
}
